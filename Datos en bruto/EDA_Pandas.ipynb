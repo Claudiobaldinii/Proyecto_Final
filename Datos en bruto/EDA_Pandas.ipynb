{
 "cells": [
  {
   "cell_type": "code",
   "execution_count": 10,
   "id": "c6e29ca1",
   "metadata": {},
   "outputs": [
    {
     "name": "stdout",
     "output_type": "stream",
     "text": [
      "=== Customers ===\n",
      "Shape: (89316, 4)\n",
      "Columnas: ['customer_id', 'customer_zip_code_prefix', 'customer_city', 'customer_state']\n",
      "    customer_id  customer_zip_code_prefix       customer_city customer_state\n",
      "0  hCT0x9JiGXBQ                     58125     varzea paulista             SP\n",
      "1  PxA7fv9spyhx                      3112  armacao dos buzios             RJ\n",
      "2  g3nXeJkGI0Qw                      4119             jandira             SP\n",
      "3  EOEsCQ6QlpIg                     18212          uberlandia             MG\n",
      "4  mVz5LO2Vd6cL                     88868            ilhabela             SP \n",
      "\n",
      "=== Products ===\n",
      "Shape: (89316, 6)\n",
      "Columnas: ['product_id', 'product_category_name', 'product_weight_g', 'product_length_cm', 'product_height_cm', 'product_width_cm']\n",
      "     product_id     product_category_name  product_weight_g  \\\n",
      "0  90K0C1fIyQUf                      toys             491.0   \n",
      "1  qejhpMGGVcsl             watches_gifts             440.0   \n",
      "2  qUS5d2pEAyxJ  costruction_tools_garden            2200.0   \n",
      "3  639iGvMyv0De                      toys            1450.0   \n",
      "4  1lycYGcsic2F                      toys             300.0   \n",
      "\n",
      "   product_length_cm  product_height_cm  product_width_cm  \n",
      "0               19.0               12.0              16.0  \n",
      "1               18.0               14.0              17.0  \n",
      "2               16.0               16.0              16.0  \n",
      "3               68.0                3.0              48.0  \n",
      "4               17.0                4.0              12.0   \n",
      "\n",
      "=== Payments ===\n",
      "Shape: (89316, 5)\n",
      "Columnas: ['order_id', 'payment_sequential', 'payment_type', 'payment_installments', 'payment_value']\n",
      "       order_id  payment_sequential payment_type  payment_installments  \\\n",
      "0  Axfy13Hk4PIk                   1  credit_card                     1   \n",
      "1  v6px92oS8cLG                   1  credit_card                     8   \n",
      "2  Ulpf9skrhjfm                   1  credit_card                     4   \n",
      "3  bwJVWupf2keN                   1  credit_card                     2   \n",
      "4  Dd0QnrMk9Cj5                   1  credit_card                     1   \n",
      "\n",
      "   payment_value  \n",
      "0         259.14  \n",
      "1         382.39  \n",
      "2         249.25  \n",
      "3          27.79  \n",
      "4          76.15   \n",
      "\n"
     ]
    }
   ],
   "source": [
    "import pandas as pd\n",
    "\n",
    "# Ruta base\n",
    "ruta = r\"C:\\Users\\claud\\OneDrive\\Escritorio\\Power Education\\Proyecto Final\\Datos en bruto\"\n",
    "\n",
    "# Cargar CSVs\n",
    "df_customers = pd.read_csv(rf\"{ruta}\\df_Customers.csv\")\n",
    "df_products  = pd.read_csv(rf\"{ruta}\\df_Products.csv\")\n",
    "df_payments  = pd.read_csv(rf\"{ruta}\\df_Payments.csv\")\n",
    "\n",
    "# --- Inspección inicial ---\n",
    "print(\"=== Customers ===\")\n",
    "print(\"Shape:\", df_customers.shape)   # filas, columnas\n",
    "print(\"Columnas:\", df_customers.columns.tolist())\n",
    "print(df_customers.head(), \"\\n\")\n",
    "\n",
    "print(\"=== Products ===\")\n",
    "print(\"Shape:\", df_products.shape)\n",
    "print(\"Columnas:\", df_products.columns.tolist())\n",
    "print(df_products.head(), \"\\n\")\n",
    "\n",
    "print(\"=== Payments ===\")\n",
    "print(\"Shape:\", df_payments.shape)\n",
    "print(\"Columnas:\", df_payments.columns.tolist())\n",
    "print(df_payments.head(), \"\\n\")\n",
    "\n",
    "\n"
   ]
  },
  {
   "cell_type": "code",
   "execution_count": 12,
   "id": "70adde91",
   "metadata": {},
   "outputs": [
    {
     "name": "stdout",
     "output_type": "stream",
     "text": [
      "=== Payments ===\n",
      "Shape: (89316, 5)\n",
      "Columnas: ['order_id', 'payment_sequential', 'payment_type', 'payment_installments', 'payment_value']\n",
      "       order_id  payment_sequential payment_type  payment_installments  \\\n",
      "0  Axfy13Hk4PIk                   1  credit_card                     1   \n",
      "1  v6px92oS8cLG                   1  credit_card                     8   \n",
      "2  Ulpf9skrhjfm                   1  credit_card                     4   \n",
      "3  bwJVWupf2keN                   1  credit_card                     2   \n",
      "4  Dd0QnrMk9Cj5                   1  credit_card                     1   \n",
      "\n",
      "   payment_value  \n",
      "0         259.14  \n",
      "1         382.39  \n",
      "2         249.25  \n",
      "3          27.79  \n",
      "4          76.15   \n",
      "\n"
     ]
    }
   ],
   "source": [
    "print(\"=== Payments ===\")\n",
    "print(\"Shape:\", df_payments.shape)\n",
    "print(\"Columnas:\", df_payments.columns.tolist())\n",
    "print(df_payments.head(), \"\\n\")\n"
   ]
  },
  {
   "cell_type": "code",
   "execution_count": 13,
   "id": "90d0b95c",
   "metadata": {},
   "outputs": [
    {
     "name": "stdout",
     "output_type": "stream",
     "text": [
      "Hojas en Ordenes.xlsx: ['df_Orders (2)', 'df_OrderItems (2)'] \n",
      "\n",
      "=== Hoja: df_Orders (2) ===\n",
      "Shape: (89316, 7)\n",
      "Columnas: ['order_id', 'customer_id', 'order_status', 'order_purchase_timestamp', 'order_approved_at', 'order_delivered_timestamp', 'order_estimated_delivery_date']\n",
      "       order_id   customer_id order_status order_purchase_timestamp  \\\n",
      "0  Axfy13Hk4PIk  hCT0x9JiGXBQ    delivered      2017-10-22 18:57:54   \n",
      "1  v6px92oS8cLG  PxA7fv9spyhx    delivered      2018-06-20 21:40:31   \n",
      "2  Ulpf9skrhjfm  g3nXeJkGI0Qw    delivered      2018-02-16 16:19:31   \n",
      "3  bwJVWupf2keN  EOEsCQ6QlpIg    delivered      2018-08-18 18:04:29   \n",
      "4  Dd0QnrMk9Cj5  mVz5LO2Vd6cL    delivered      2017-12-22 16:44:04   \n",
      "\n",
      "    order_approved_at order_delivered_timestamp order_estimated_delivery_date  \n",
      "0 2017-10-22 19:14:13       2017-10-26 22:19:52                    2017-11-09  \n",
      "1 2018-06-20 22:20:20       2018-07-03 22:51:22                    2018-07-24  \n",
      "2 2018-02-17 16:15:35       2018-02-27 01:29:50                    2018-03-08  \n",
      "3 2018-08-18 18:15:16       2018-08-27 20:03:51                    2018-09-19  \n",
      "4 2017-12-22 17:31:31       2018-01-05 19:22:49                    2018-01-18   \n",
      "\n",
      "=== Hoja: df_OrderItems (2) ===\n",
      "Shape: (89316, 5)\n",
      "Columnas: ['order_id', 'product_id', 'seller_id', 'price', 'shipping_charges']\n",
      "       order_id    product_id     seller_id  price  shipping_charges\n",
      "0  Axfy13Hk4PIk  90K0C1fIyQUf  ZWM05J9LcBSF  22351              8465\n",
      "1  v6px92oS8cLG  qejhpMGGVcsl  IjlpYfhUbRQs   1708              2379\n",
      "2  Ulpf9skrhjfm  qUS5d2pEAyxJ  77p2EYxcM9MD    644              1738\n",
      "3  bwJVWupf2keN  639iGvMyv0De  jWzS0ayv9TGf   2645              3072\n",
      "4  Dd0QnrMk9Cj5  1lycYGcsic2F  l1pYW6GBnPMr   7799              3066 \n",
      "\n"
     ]
    }
   ],
   "source": [
    "# Cargar Excel completo\n",
    "xls = pd.ExcelFile(rf\"{ruta}\\Ordenes.xlsx\")\n",
    "\n",
    "# Ver las hojas disponibles\n",
    "print(\"Hojas en Ordenes.xlsx:\", xls.sheet_names, \"\\n\")\n",
    "\n",
    "# Cargar cada hoja como dataset independiente\n",
    "for hoja in xls.sheet_names:\n",
    "    df_temp = pd.read_excel(rf\"{ruta}\\Ordenes.xlsx\", sheet_name=hoja)\n",
    "    print(f\"=== Hoja: {hoja} ===\")\n",
    "    print(\"Shape:\", df_temp.shape)\n",
    "    print(\"Columnas:\", df_temp.columns.tolist())\n",
    "    print(df_temp.head(), \"\\n\")\n"
   ]
  }
 ],
 "metadata": {
  "kernelspec": {
   "display_name": "Python 3",
   "language": "python",
   "name": "python3"
  },
  "language_info": {
   "codemirror_mode": {
    "name": "ipython",
    "version": 3
   },
   "file_extension": ".py",
   "mimetype": "text/x-python",
   "name": "python",
   "nbconvert_exporter": "python",
   "pygments_lexer": "ipython3",
   "version": "3.13.0"
  }
 },
 "nbformat": 4,
 "nbformat_minor": 5
}
